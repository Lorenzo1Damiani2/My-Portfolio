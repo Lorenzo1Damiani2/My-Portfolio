{
 "cells": [
  {
   "cell_type": "markdown",
   "metadata": {},
   "source": [
    "### INFERENTIAL STATISTICS"
   ]
  },
  {
   "cell_type": "markdown",
   "metadata": {},
   "source": [
    "### Basics of inference"
   ]
  },
  {
   "cell_type": "code",
   "execution_count": 1,
   "metadata": {},
   "outputs": [
    {
     "name": "stdout",
     "output_type": "stream",
     "text": [
      "[27 18 27 32 40 25 20 32 44 26 36 21 24 41 31 20 33 38 38 31 42 24 40 36\n",
      " 38 19 28 34 42 34 39 29 35 21 21 29 24 32 29 29 18 37 19 20 18 20 31 35\n",
      " 33 22]\n"
     ]
    },
    {
     "data": {
      "text/plain": [
       "29.64"
      ]
     },
     "execution_count": 1,
     "metadata": {},
     "output_type": "execute_result"
    }
   ],
   "source": [
    "import numpy as np\n",
    "\n",
    "sample = np.random.randint(18,45,50)\n",
    "print(sample)\n",
    "\n",
    "sample.mean()"
   ]
  },
  {
   "cell_type": "code",
   "execution_count": 2,
   "metadata": {},
   "outputs": [
    {
     "data": {
      "image/png": "[encoded data removed]",
      "text/plain": [
       "<Figure size 432x288 with 1 Axes>"
      ]
     },
     "metadata": {
      "needs_background": "light"
     },
     "output_type": "display_data"
    }
   ],
   "source": [
    "import matplotlib.pyplot as plt\n",
    "\n",
    "plt.hist(sample)\n",
    "\n",
    "plt.show()"
   ]
  },
  {
   "cell_type": "code",
   "execution_count": 3,
   "metadata": {},
   "outputs": [
    {
     "data": {
      "text/plain": [
       "(1.5169692584650896, 0.1292744457378151)"
      ]
     },
     "execution_count": 3,
     "metadata": {},
     "output_type": "execute_result"
    }
   ],
   "source": [
    "from statsmodels.stats.weightstats import ztest\n",
    "# statsmodels.stats.weightstats.ztest(x1, x2=None, value=0, alternative='two-sided', usevar='pooled', ddof=1.0)\n",
    "# https://www.statsmodels.org/stable/generated/statsmodels.stats.weightstats.ztest.html\n",
    "\n",
    "ztest(sample, value = 28)\n",
    "\n",
    "# H0: mu = 28\n",
    "# H1: mu != 28\n",
    "\n",
    "# alpha we choose alpha = 0.05 therefore, our confidence is 95%"
   ]
  },
  {
   "cell_type": "code",
   "execution_count": 4,
   "metadata": {},
   "outputs": [
    {
     "data": {
      "text/plain": [
       "(1.5169692584650896, 0.06463722286890755)"
      ]
     },
     "execution_count": 4,
     "metadata": {},
     "output_type": "execute_result"
    }
   ],
   "source": [
    "ztest(sample, value = 28, alternative=\"larger\")\n",
    "\n",
    "# H0: mu = 28\n",
    "# H1: mu > 28\n",
    "\n",
    "# alpha we choose alpha = 0.05 therefore, our confidence is 95%"
   ]
  },
  {
   "cell_type": "markdown",
   "metadata": {},
   "source": [
    "If I have a p-value lower than 0.05, I would say:\n",
    "- I have enough evidence to reject H0, there fore, I assume H1 with a confidence of 95%\n",
    "\n",
    "If the p-value is larger than 0.05:\n",
    "- I don't have enough evidence to reject H0, so we accept is true with a confidence of 95%"
   ]
  },
  {
   "cell_type": "markdown",
   "metadata": {},
   "source": [
    "# Assignment II\n",
    "\n",
    "Second graded assignment of the course. There is not only one way to do some of the sections. Feel free to add some extra sections if you consider them interesting!"
   ]
  },
  {
   "cell_type": "markdown",
   "metadata": {},
   "source": [
    "1. Generate a list/array with the height of the population of Barcelona (1620343 inhab), where the mean is 173 cm and the standard deviation is 9.5 cm. Height is normally distributed."
   ]
  },
  {
   "cell_type": "code",
   "execution_count": 5,
   "metadata": {},
   "outputs": [
    {
     "name": "stdout",
     "output_type": "stream",
     "text": [
      "[167.80946308 164.9245069  187.26954806 ... 192.80592417 162.75540654\n",
      " 174.67576417]\n"
     ]
    },
    {
     "data": {
      "text/plain": [
       "numpy.ndarray"
      ]
     },
     "execution_count": 5,
     "metadata": {},
     "output_type": "execute_result"
    }
   ],
   "source": [
    "from scipy.stats import norm\n",
    "# generate random numbers from N(mean=173,standard deviation=9.5)\n",
    "height_normal = norm.rvs(size=1620343,loc=173,scale=9.5)\n",
    "print(height_normal)\n",
    "type(height_normal)"
   ]
  },
  {
   "cell_type": "markdown",
   "metadata": {},
   "source": [
    "2. Plot the distribution of the population (not the mean)"
   ]
  },
  {
   "cell_type": "code",
   "execution_count": 6,
   "metadata": {},
   "outputs": [
    {
     "data": {
      "text/plain": [
       "[Text(0, 0.5, 'Frequency'), Text(0.5, 0, 'Height')]"
      ]
     },
     "execution_count": 6,
     "metadata": {},
     "output_type": "execute_result"
    },
    {
     "data": {
      "image/png": "[encoded data removed]",
      "text/plain": [
       "<Figure size 432x288 with 1 Axes>"
      ]
     },
     "metadata": {
      "needs_background": "light"
     },
     "output_type": "display_data"
    }
   ],
   "source": [
    "import seaborn as sns\n",
    "ax = sns.distplot(height_normal,\n",
    "                  bins=100,\n",
    "                  kde=True,\n",
    "                  color='skyblue',\n",
    "                  hist_kws={\"linewidth\": 15,'alpha':1})\n",
    "ax.set(xlabel='Height', ylabel='Frequency')"
   ]
  },
  {
   "cell_type": "markdown",
   "metadata": {},
   "source": [
    "3. How many cases are considered outliers? (we can use the definition of being above/below 1.5 x IQR, or 3 x IQR if we want to be more restrictive)"
   ]
  },
  {
   "cell_type": "code",
   "execution_count": 7,
   "metadata": {},
   "outputs": [
    {
     "name": "stdout",
     "output_type": "stream",
     "text": [
      "179.41230759725403\n",
      "166.59587668703088\n",
      "12.816430910223147\n",
      "198.63695396258873\n",
      "147.37123032169615\n",
      "There are 11424 outliers\n"
     ]
    }
   ],
   "source": [
    "import numpy as np\n",
    "iqr= np.quantile(height_normal, 0.75)-np.quantile(height_normal, 0.25)\n",
    "print(np.quantile(height_normal, 0.75))\n",
    "print(np.quantile(height_normal, 0.25))\n",
    "print(iqr)\n",
    "\n",
    "upper_15_bound= np.quantile(height_normal, 0.75)+iqr*1.5\n",
    "print(upper_15_bound)\n",
    "lower_15_bound= np.quantile(height_normal, 0.25)-iqr*1.5\n",
    "print(lower_15_bound)\n",
    "\n",
    "big_outliers=height_normal[height_normal>198.61733616790733]\n",
    "small_outliers=height_normal[height_normal<147.39490133859866]\n",
    "\n",
    "outliers= len(big_outliers)+len(small_outliers)\n",
    "print(\"There are \"+str(outliers)+\" outliers\")"
   ]
  },
  {
   "cell_type": "markdown",
   "metadata": {},
   "source": [
    "4. Generate a sample of 50 individuals, and using the Z-test, test $H_0 = 173$ against $H_1 \\neq 173$. Use a confidence of 90%, 95%, 95.5% and 99%. Do you get different conclusions?\n",
    "\n",
    "Remember: Confidence (and significance) are arbitrary values!! You use them as a threshold, but you never see them in the functions! Is what you use to decide if the values are extreme enough given some amount of risk"
   ]
  },
  {
   "cell_type": "code",
   "execution_count": 8,
   "metadata": {},
   "outputs": [
    {
     "name": "stdout",
     "output_type": "stream",
     "text": [
      "(0.31857160921019473, 0.7500513851155016)\n"
     ]
    }
   ],
   "source": [
    "sample50=np.random.choice(height_normal,50)\n",
    "from statsmodels.stats.weightstats import ztest\n",
    "print(ztest(sample50, value = 173))"
   ]
  },
  {
   "cell_type": "code",
   "execution_count": 46,
   "metadata": {},
   "outputs": [
    {
     "name": "stdout",
     "output_type": "stream",
     "text": [
      "With a p-value equal to 0.7500513851155016 I accept H0 using all the different levels of confidence because\n",
      "p>alpha (90% confidence -> alpha = 0.1) in each case\n"
     ]
    }
   ],
   "source": [
    "print(\"\"\"With a p-value equal to 0.7500513851155016 I accept H0 using all the different levels of confidence because\n",
    "p>alpha (90% confidence -> alpha = 0.1) in each case\"\"\")"
   ]
  },
  {
   "cell_type": "markdown",
   "metadata": {},
   "source": [
    "4.1 Draw the Z-test for the population mean"
   ]
  },
  {
   "cell_type": "code",
   "execution_count": 47,
   "metadata": {},
   "outputs": [
    {
     "data": {
      "text/plain": [
       "[Text(0, 0.5, 'Frequency'), Text(0.5, 0, 'Height Standardized')]"
      ]
     },
     "execution_count": 47,
     "metadata": {},
     "output_type": "execute_result"
    },
    {
     "data": {
      "image/png": "[encoded data removed]",
      "text/plain": [
       "<Figure size 432x288 with 1 Axes>"
      ]
     },
     "metadata": {
      "needs_background": "light"
     },
     "output_type": "display_data"
    }
   ],
   "source": [
    "from scipy.stats import norm\n",
    "import seaborn as sns\n",
    "import matplotlib.pyplot as plt\n",
    "\n",
    "#standard normal distribution for ztest\n",
    "standardized_normal = norm.rvs(size=100000,loc=0,scale=1)\n",
    "\n",
    "\n",
    "#plotting the four lines\n",
    "x0 = 0\n",
    "x1 = 0.31857160921019473\n",
    "x2 = -1.645\n",
    "x3 = 1.645\n",
    "\n",
    "p0 = plt.axvline(x=x0,color='k',label=\"Mean\")\n",
    "p1 = plt.axvline(x=x1,color='g',label=\"Ho hypothesis\")\n",
    "p2 = plt.axvline(x=x2,color='r',label=\"90% Confidence\")\n",
    "p3 = plt.axvline(x=x3,color='r')\n",
    "plt.legend(loc=\"upper left\")\n",
    "\n",
    "\n",
    "ax = sns.distplot(standardized_normal,\n",
    "                  bins=100,\n",
    "                  kde=True,\n",
    "                  color='skyblue',\n",
    "                  hist_kws={\"linewidth\": 15,'alpha':1})\n",
    "ax.set(xlabel='Height Standardized', ylabel='Frequency')"
   ]
  },
  {
   "cell_type": "markdown",
   "metadata": {},
   "source": [
    "4.2 Does it change a lot if we test $H_0 = 173$ against $H_1 > 173$ ? Explain the differences"
   ]
  },
  {
   "cell_type": "code",
   "execution_count": 16,
   "metadata": {},
   "outputs": [
    {
     "name": "stdout",
     "output_type": "stream",
     "text": [
      "(0.31857160921019473, 0.3750256925577508)\n",
      "As we can see if we transform the z-test from two-sided to one sided the p-value becomes the half:\n",
      "\n",
      "Z-test two sided -> p-value = 0.7500513851155016\n",
      "Z-test one sided -> p-value = 0.3750256925577508\n",
      "\n",
      "This happened because in this case we calculate the area after the zvalue 0.31857160921019473, while before we were calculating\n",
      "the area after that value and also the area before the zvalue -0.31857160921019473.\n",
      "\n",
      "Anyway we still accept Ho with all the confidence intervalls proposed before.\n"
     ]
    }
   ],
   "source": [
    "print(ztest(sample50, value = 173, alternative=\"larger\"))\n",
    "print(\"\"\"As we can see if we transform the z-test from two-sided to one sided the p-value becomes the half:\n",
    "\n",
    "Z-test two sided -> p-value = 0.7500513851155016\n",
    "Z-test one sided -> p-value = 0.3750256925577508\n",
    "\n",
    "This happened because in this case we calculate the area after the zvalue 0.31857160921019473, while before we were calculating\n",
    "the area after that value and also the area before the zvalue -0.31857160921019473.\n",
    "\n",
    "\n",
    "Anyway we still accept Ho with all the confidence intervalls proposed before.\"\"\")"
   ]
  },
  {
   "cell_type": "markdown",
   "metadata": {},
   "source": [
    "5. Now we are going to generate 10000 samples of 50 individuals. For each of them, I want to apply the previous procedure, Z-test with 90, 95, 95.5 and 99% confidence! At the end, I want to see how many times I accepted $H_0$ and how many times I rejected it (which means I assume $H_1$ is happening) for each of them. Does it fit what we should expect?\n",
    "\n",
    "Show it graphically"
   ]
  },
  {
   "cell_type": "code",
   "execution_count": 28,
   "metadata": {},
   "outputs": [],
   "source": [
    "dictionary_samples=[]\n",
    "for i in range(10000):\n",
    "    np.random.choice(height_normal,50)\n",
    "    z, pvalue=ztest(np.random.choice(height_normal,50), value = 173)\n",
    "    dictionary_samples.append(\n",
    "        {\n",
    "            'Z': z,\n",
    "            'PVALUE': pvalue\n",
    "        }\n",
    "    )"
   ]
  },
  {
   "cell_type": "code",
   "execution_count": 111,
   "metadata": {},
   "outputs": [
    {
     "name": "stdout",
     "output_type": "stream",
     "text": [
      "             Z    PVALUE\n",
      "0     1.417604  0.156306\n",
      "1     1.045808  0.295650\n",
      "2    -1.560067  0.118744\n",
      "3    -0.591325  0.554303\n",
      "4     2.246169  0.024693\n",
      "...        ...       ...\n",
      "9995  0.057399  0.954228\n",
      "9996  1.041273  0.297749\n",
      "9997 -1.788661  0.073669\n",
      "9998  2.217388  0.026597\n",
      "9999 -0.974927  0.329597\n",
      "\n",
      "[10000 rows x 2 columns]\n",
      "Z         109\n",
      "PVALUE    109\n",
      "dtype: int64\n",
      "Z         516\n",
      "PVALUE    516\n",
      "dtype: int64\n",
      "Z         570\n",
      "PVALUE    570\n",
      "dtype: int64\n",
      "Z         1077\n",
      "PVALUE    1077\n",
      "dtype: int64\n",
      "The results are almost in line with the expectations:\n",
      "1) With a 99% of confidence we expected 100 p-values below 0.01 and we got: 109\n",
      "2) With a 95.5% of confidence we expected 450 p-values below 0.045 and we got: 516\n",
      "3) With a 95% of confidence we expected 500 p-values below 0.05 and we got: 570\n",
      "4) With a 90% of confidence we expected 1000 p-values below 0.1 and we got: 1077\n"
     ]
    }
   ],
   "source": [
    "import pandas as pd\n",
    "df_samples= pd.DataFrame(dictionary_samples)\n",
    "print(df_samples)\n",
    "\n",
    "print(df_samples[df_samples[\"PVALUE\"]<0.01].count())\n",
    "print(df_samples[df_samples[\"PVALUE\"]<0.045].count())\n",
    "print(df_samples[df_samples[\"PVALUE\"]<0.05].count())\n",
    "print(df_samples[df_samples[\"PVALUE\"]<0.1].count())\n",
    "print('''The results are almost in line with the expectations:\n",
    "1) With a 99% of confidence we expected 100 p-values below 0.01 and we got: 109\n",
    "2) With a 95.5% of confidence we expected 450 p-values below 0.045 and we got: 516\n",
    "3) With a 95% of confidence we expected 500 p-values below 0.05 and we got: 570\n",
    "4) With a 90% of confidence we expected 1000 p-values below 0.1 and we got: 1077''')"
   ]
  },
  {
   "cell_type": "code",
   "execution_count": 112,
   "metadata": {},
   "outputs": [
    {
     "name": "stdout",
     "output_type": "stream",
     "text": [
      "AxesSubplot(0.125,0.125;0.775x0.755)\n"
     ]
    },
    {
     "data": {
      "image/png": "[encoded data removed]",
      "text/plain": [
       "<Figure size 432x288 with 1 Axes>"
      ]
     },
     "metadata": {
      "needs_background": "light"
     },
     "output_type": "display_data"
    }
   ],
   "source": [
    "df_samples[\"Ho_rejected_99\"]=(df_samples[\"PVALUE\"]<0.01)\n",
    "df_samples[\"Ho_rejected_95.5\"]=(df_samples[\"PVALUE\"]<0.045)\n",
    "df_samples[\"Ho_rejected_95\"]=(df_samples[\"PVALUE\"]<0.05)\n",
    "df_samples[\"Ho_rejected_90\"]=(df_samples[\"PVALUE\"]<0.1)\n",
    "\n",
    "import matplotlib.pyplot as plt\n",
    "\n",
    "df_samples.drop(['Z','PVALUE'], axis=1, inplace=True)\n",
    "\n",
    "print(df_samples[\"Ho_rejected_99\"].value_counts().plot.bar(title=\"Do I reject the null hypothesis?(99% confidence)\"))"
   ]
  },
  {
   "cell_type": "code",
   "execution_count": 113,
   "metadata": {},
   "outputs": [
    {
     "name": "stdout",
     "output_type": "stream",
     "text": [
      "AxesSubplot(0.125,0.125;0.775x0.755)\n"
     ]
    },
    {
     "data": {
      "image/png": "[encoded data removed]",
      "text/plain": [
       "<Figure size 432x288 with 1 Axes>"
      ]
     },
     "metadata": {
      "needs_background": "light"
     },
     "output_type": "display_data"
    }
   ],
   "source": [
    "print(df_samples[\"Ho_rejected_95.5\"].value_counts().plot.bar(title=\"Do I reject the null hypothesis?(95.5% confidence)\"))"
   ]
  },
  {
   "cell_type": "code",
   "execution_count": 114,
   "metadata": {},
   "outputs": [
    {
     "name": "stdout",
     "output_type": "stream",
     "text": [
      "AxesSubplot(0.125,0.125;0.775x0.755)\n"
     ]
    },
    {
     "data": {
      "image/png": "[encoded data removed]",
      "text/plain": [
       "<Figure size 432x288 with 1 Axes>"
      ]
     },
     "metadata": {
      "needs_background": "light"
     },
     "output_type": "display_data"
    }
   ],
   "source": [
    "print(df_samples[\"Ho_rejected_95\"].value_counts().plot.bar(title=\"Do I reject the null hypothesis?(95% confidence)\"))"
   ]
  },
  {
   "cell_type": "code",
   "execution_count": 115,
   "metadata": {},
   "outputs": [
    {
     "name": "stdout",
     "output_type": "stream",
     "text": [
      "AxesSubplot(0.125,0.125;0.775x0.755)\n"
     ]
    },
    {
     "data": {
      "image/png": "[encoded data removed]",
      "text/plain": [
       "<Figure size 432x288 with 1 Axes>"
      ]
     },
     "metadata": {
      "needs_background": "light"
     },
     "output_type": "display_data"
    }
   ],
   "source": [
    "print(df_samples[\"Ho_rejected_90\"].value_counts().plot.bar(title=\"Do I reject the null hypothesis?(90% confidence)\"))"
   ]
  },
  {
   "cell_type": "markdown",
   "metadata": {},
   "source": [
    "6.  Replicate the previous point, testing $H_0 = 180$ against $H_1 \\neq 180$. How many times have you accepted $H_0$? Can you link these results with the errors of type I and II?"
   ]
  },
  {
   "cell_type": "code",
   "execution_count": 40,
   "metadata": {},
   "outputs": [],
   "source": [
    "dictionary_samples2=[]\n",
    "for i in range(10000):\n",
    "    np.random.choice(height_normal,50)\n",
    "    z, pvalue=ztest(np.random.choice(height_normal,50), value = 180)\n",
    "    dictionary_samples2.append(\n",
    "        {\n",
    "            'Z': z,\n",
    "            'PVALUE': pvalue\n",
    "        }\n",
    "    )"
   ]
  },
  {
   "cell_type": "code",
   "execution_count": 45,
   "metadata": {},
   "outputs": [
    {
     "name": "stdout",
     "output_type": "stream",
     "text": [
      "             Z        PVALUE\n",
      "0    -3.358239  7.844071e-04\n",
      "1    -5.202677  1.964383e-07\n",
      "2    -4.917625  8.760047e-07\n",
      "3    -3.278910  1.042089e-03\n",
      "4    -5.826947  5.645067e-09\n",
      "...        ...           ...\n",
      "9995 -4.830019  1.365200e-06\n",
      "9996 -6.051163  1.438038e-09\n",
      "9997 -4.328413  1.501877e-05\n",
      "9998 -4.800452  1.583077e-06\n",
      "9999 -3.764822  1.666681e-04\n",
      "\n",
      "[10000 rows x 2 columns]\n",
      "Z         9955\n",
      "PVALUE    9955\n",
      "dtype: int64\n",
      "Z         9992\n",
      "PVALUE    9992\n",
      "dtype: int64\n",
      "Z         9992\n",
      "PVALUE    9992\n",
      "dtype: int64\n",
      "Z         9998\n",
      "PVALUE    9998\n",
      "dtype: int64\n",
      "These results underline how in some cases we can accept an Ho hypothesis that is false(type II error),\n",
      "for instance with a 99% level of confidence we accept 45 times over 10000 the null hypothesis that is false,\n",
      "so in this trial we accept in 0.45% of the samples a false null hypothesis.\n",
      "The probability beta to have a type II error decreases when the confidence level decreases as we can see above.\n"
     ]
    }
   ],
   "source": [
    "import pandas as pd\n",
    "df_samples2= pd.DataFrame(dictionary_samples2)\n",
    "print(df_samples2)\n",
    "\n",
    "print(df_samples2[df_samples2[\"PVALUE\"]<0.01].count())\n",
    "print(df_samples2[df_samples2[\"PVALUE\"]<0.045].count())\n",
    "print(df_samples2[df_samples2[\"PVALUE\"]<0.05].count())\n",
    "print(df_samples2[df_samples2[\"PVALUE\"]<0.1].count())\n",
    "print('''These results underline how in some cases we can accept an Ho hypothesis that is false(type II error),\n",
    "for instance with a 99% level of confidence we accept 45 times over 10000 the null hypothesis that is false,\n",
    "so in this trial we accept in 0.45% of the samples a false null hypothesis.\n",
    "The probability beta to have a type II error decreases when the confidence level decreases as we can see above.''')"
   ]
  },
  {
   "cell_type": "code",
   "execution_count": 116,
   "metadata": {},
   "outputs": [
    {
     "name": "stdout",
     "output_type": "stream",
     "text": [
      "AxesSubplot(0.125,0.125;0.775x0.755)\n"
     ]
    },
    {
     "data": {
      "image/png": "[encoded data removed]",
      "text/plain": [
       "<Figure size 432x288 with 1 Axes>"
      ]
     },
     "metadata": {
      "needs_background": "light"
     },
     "output_type": "display_data"
    }
   ],
   "source": [
    "df_samples2[\"Ho_rejected_99\"]=(df_samples2[\"PVALUE\"]<0.01)\n",
    "df_samples2[\"Ho_rejected_95.5\"]=(df_samples2[\"PVALUE\"]<0.045)\n",
    "df_samples2[\"Ho_rejected_95\"]=(df_samples2[\"PVALUE\"]<0.05)\n",
    "df_samples2[\"Ho_rejected_90\"]=(df_samples2[\"PVALUE\"]<0.1)\n",
    "\n",
    "import matplotlib.pyplot as plt\n",
    "\n",
    "df_samples2.drop(['Z','PVALUE'], axis=1, inplace=True)\n",
    "\n",
    "print(df_samples2[\"Ho_rejected_99\"].value_counts().plot.bar(title=\"Do I reject the null hypothesis?(99% confidence)\"))"
   ]
  },
  {
   "cell_type": "code",
   "execution_count": 119,
   "metadata": {},
   "outputs": [
    {
     "name": "stdout",
     "output_type": "stream",
     "text": [
      "AxesSubplot(0.125,0.125;0.775x0.755)\n"
     ]
    },
    {
     "data": {
      "image/png": "[encoded data removed]",
      "text/plain": [
       "<Figure size 432x288 with 1 Axes>"
      ]
     },
     "metadata": {
      "needs_background": "light"
     },
     "output_type": "display_data"
    }
   ],
   "source": [
    "print(df_samples2[\"Ho_rejected_95.5\"].value_counts().plot.bar(title=\"Do I reject the null hypothesis?(95.5% confidence)\"))"
   ]
  },
  {
   "cell_type": "code",
   "execution_count": 120,
   "metadata": {},
   "outputs": [
    {
     "name": "stdout",
     "output_type": "stream",
     "text": [
      "AxesSubplot(0.125,0.125;0.775x0.755)\n"
     ]
    },
    {
     "data": {
      "image/png": "[encoded data removed]",
      "text/plain": [
       "<Figure size 432x288 with 1 Axes>"
      ]
     },
     "metadata": {
      "needs_background": "light"
     },
     "output_type": "display_data"
    }
   ],
   "source": [
    "print(df_samples2[\"Ho_rejected_95\"].value_counts().plot.bar(title=\"Do I reject the null hypothesis?(95% confidence)\"))"
   ]
  },
  {
   "cell_type": "code",
   "execution_count": 121,
   "metadata": {},
   "outputs": [
    {
     "name": "stdout",
     "output_type": "stream",
     "text": [
      "AxesSubplot(0.125,0.125;0.775x0.755)\n"
     ]
    },
    {
     "data": {
      "image/png": "[encoded data removed]",
      "text/plain": [
       "<Figure size 432x288 with 1 Axes>"
      ]
     },
     "metadata": {
      "needs_background": "light"
     },
     "output_type": "display_data"
    }
   ],
   "source": [
    "print(df_samples2[\"Ho_rejected_90\"].value_counts().plot.bar(title=\"Do I reject the null hypothesis?(90% confidence)\"))"
   ]
  }
 ],
 "metadata": {
  "kernelspec": {
   "display_name": "Python 3",
   "language": "python",
   "name": "python3"
  },
  "language_info": {
   "codemirror_mode": {
    "name": "ipython",
    "version": 3
   },
   "file_extension": ".py",
   "mimetype": "text/x-python",
   "name": "python",
   "nbconvert_exporter": "python",
   "pygments_lexer": "ipython3",
   "version": "3.8.3"
  }
 },
 "nbformat": 4,
 "nbformat_minor": 2
}
