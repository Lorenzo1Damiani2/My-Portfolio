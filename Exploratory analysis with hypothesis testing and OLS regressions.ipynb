{
 "cells": [
  {
   "cell_type": "markdown",
   "metadata": {},
   "source": [
    "# Exploratory analysis with hypothesis testing and OLS regressions"
   ]
  },
  {
   "cell_type": "markdown",
   "metadata": {},
   "source": [
    "# I will deal with a dataset that contains the recordings of the tips and the bills payed by the clients of a restaurant\n",
    "\n",
    "**1) Briefly summarize what it contains**\n",
    "\n",
    "This dataset contains 244 observations with 7 features.\n",
    "I visualized and calculated, through different pivot tables, the difference in the average of total bills payed and tips given grouping by the gender of the customers, by different days of the week and by the different meals of the day.\n",
    "The results tell us that on the average male people pay higher bills and slighlty higher tips, people pay higher bills and higher tips during the weekend and pay higher bills and higher tips at dinner rather than at lunch."
   ]
  },
  {
   "cell_type": "code",
   "execution_count": 1,
   "metadata": {},
   "outputs": [
    {
     "name": "stderr",
     "output_type": "stream",
     "text": [
      "C:\\ProgramData\\Anaconda3\\lib\\site-packages\\seaborn\\utils.py:384: GuessedAtParserWarning: No parser was explicitly specified, so I'm using the best available HTML parser for this system (\"lxml\"). This usually isn't a problem, but if you run this code on another system, or in a different virtual environment, it may use a different parser and behave differently.\n",
      "\n",
      "The code that caused this warning is on line 384 of the file C:\\ProgramData\\Anaconda3\\lib\\site-packages\\seaborn\\utils.py. To get rid of this warning, pass the additional argument 'features=\"lxml\"' to the BeautifulSoup constructor.\n",
      "\n",
      "  gh_list = BeautifulSoup(http)\n"
     ]
    },
    {
     "data": {
      "text/plain": [
       "['anagrams',\n",
       " 'anscombe',\n",
       " 'attention',\n",
       " 'brain_networks',\n",
       " 'car_crashes',\n",
       " 'diamonds',\n",
       " 'dots',\n",
       " 'exercise',\n",
       " 'flights',\n",
       " 'fmri',\n",
       " 'gammas',\n",
       " 'geyser',\n",
       " 'iris',\n",
       " 'mpg',\n",
       " 'penguins',\n",
       " 'planets',\n",
       " 'tips',\n",
       " 'titanic']"
      ]
     },
     "execution_count": 1,
     "metadata": {},
     "output_type": "execute_result"
    }
   ],
   "source": [
    "import seaborn as sns\n",
    "sns.get_dataset_names()\n",
    "# df = sns.load_dataset(\"nameofthedataset\")"
   ]
  },
  {
   "cell_type": "code",
   "execution_count": 3,
   "metadata": {},
   "outputs": [
    {
     "name": "stdout",
     "output_type": "stream",
     "text": [
      "   total_bill   tip     sex smoker  day    time  size\n",
      "0       16.99  1.01  Female     No  Sun  Dinner     2\n",
      "1       10.34  1.66    Male     No  Sun  Dinner     3\n",
      "2       21.01  3.50    Male     No  Sun  Dinner     3\n",
      "3       23.68  3.31    Male     No  Sun  Dinner     2\n",
      "4       24.59  3.61  Female     No  Sun  Dinner     4\n",
      "<class 'pandas.core.frame.DataFrame'>\n",
      "RangeIndex: 244 entries, 0 to 243\n",
      "Data columns (total 7 columns):\n",
      " #   Column      Non-Null Count  Dtype   \n",
      "---  ------      --------------  -----   \n",
      " 0   total_bill  244 non-null    float64 \n",
      " 1   tip         244 non-null    float64 \n",
      " 2   sex         244 non-null    category\n",
      " 3   smoker      244 non-null    category\n",
      " 4   day         244 non-null    category\n",
      " 5   time        244 non-null    category\n",
      " 6   size        244 non-null    int64   \n",
      "dtypes: category(4), float64(2), int64(1)\n",
      "memory usage: 7.3 KB\n",
      "None\n"
     ]
    }
   ],
   "source": [
    "import pandas as pd\n",
    "import matplotlib.pyplot as plt\n",
    "\n",
    "df = sns.load_dataset(\"tips\")\n",
    "print(df.head())\n",
    "print(df.info())"
   ]
  },
  {
   "cell_type": "code",
   "execution_count": 4,
   "metadata": {},
   "outputs": [
    {
     "name": "stdout",
     "output_type": "stream",
     "text": [
      "        Average Tip  Average Bill\n",
      "sex                              \n",
      "Male       3.089618     20.744076\n",
      "Female     2.833448     18.056897\n"
     ]
    },
    {
     "data": {
      "text/plain": [
       "<matplotlib.legend.Legend at 0x230ffba9610>"
      ]
     },
     "execution_count": 4,
     "metadata": {},
     "output_type": "execute_result"
    },
    {
     "data": {
      "image/png": "[encoded data removed]",
      "text/plain": [
       "<Figure size 432x288 with 1 Axes>"
      ]
     },
     "metadata": {
      "needs_background": "light"
     },
     "output_type": "display_data"
    }
   ],
   "source": [
    "#Pivot Table for sex\n",
    "pivot_sex = df.pivot_table(index=['sex'], values=['total_bill','tip'], aggfunc='mean')\n",
    "pivot_sex.rename(columns={'tip': 'Average Tip', 'total_bill': 'Average Bill'}, inplace=True)\n",
    "print(pivot_sex)\n",
    "#Visualization of pivot table for sex\n",
    "pivot_sex_plot = pivot_sex.plot(kind='bar')\n",
    "plt.legend(loc='upper center')"
   ]
  },
  {
   "cell_type": "code",
   "execution_count": 5,
   "metadata": {},
   "outputs": [
    {
     "name": "stdout",
     "output_type": "stream",
     "text": [
      "      Average Tip  Average Bill\n",
      "day                            \n",
      "Thur     2.771452     17.682742\n",
      "Fri      2.734737     17.151579\n",
      "Sat      2.993103     20.441379\n",
      "Sun      3.255132     21.410000\n"
     ]
    },
    {
     "data": {
      "image/png": "[encoded data removed]",
      "text/plain": [
       "<Figure size 432x288 with 1 Axes>"
      ]
     },
     "metadata": {
      "needs_background": "light"
     },
     "output_type": "display_data"
    }
   ],
   "source": [
    "#Pivot Table for day\n",
    "pivot_day = df.pivot_table(index=['day'], values=['total_bill','tip'], aggfunc='mean')\n",
    "pivot_day.rename(columns={'tip': 'Average Tip', 'total_bill': 'Average Bill'}, inplace=True)\n",
    "print(pivot_day)\n",
    "#Visualization of pivot table for day\n",
    "pivot_day_plot = df.pivot_table(index=['day'], values=['total_bill','tip'], aggfunc='mean').plot(kind='bar')\n",
    "plt.xticks(ticks=[0,1,2,3],labels=[\"Thursday\",\"Friday\",\"Saturday\",\"Sunday\"])\n",
    "plt.legend(labels=['Average Tip','Average Bill' ])\n",
    "plt.show()"
   ]
  },
  {
   "cell_type": "code",
   "execution_count": 6,
   "metadata": {},
   "outputs": [
    {
     "name": "stdout",
     "output_type": "stream",
     "text": [
      "        Average Tip  Average Bill\n",
      "sex                              \n",
      "Male       3.089618     20.744076\n",
      "Female     2.833448     18.056897\n"
     ]
    },
    {
     "data": {
      "text/plain": [
       "<matplotlib.legend.Legend at 0x230ffedd790>"
      ]
     },
     "execution_count": 6,
     "metadata": {},
     "output_type": "execute_result"
    },
    {
     "data": {
      "image/png": "[encoded data removed]",
      "text/plain": [
       "<Figure size 432x288 with 1 Axes>"
      ]
     },
     "metadata": {
      "needs_background": "light"
     },
     "output_type": "display_data"
    }
   ],
   "source": [
    "#Pivot Table for different meals\n",
    "pivot_meals = df.pivot_table(index=['time'], values=['total_bill','tip'], aggfunc='mean')\n",
    "pivot_meals.rename(columns={'tip': 'Average Tip', 'total_bill': 'Average Bill'}, inplace=True)\n",
    "print(pivot_sex)\n",
    "#Visualization of pivot table for different meals\n",
    "pivot_meals_plot = pivot_meals.plot(kind='bar')\n",
    "plt.legend(loc='upper center')"
   ]
  },
  {
   "cell_type": "markdown",
   "metadata": {},
   "source": [
    "**2) Test at least 3 hypothesis. Define them previously, writing down H0 and H1, your significance level and confidence. Would be nice if you use different tests. Extra points if the tests are interesting**\n",
    "\n",
    "\n",
    "I will assume that my dataset of 244 observations is already the sample of a larger population that contains the whole history of the reastaurant since the beginning.\n",
    "\n",
    "\n",
    "1)In the first test I will do a t-test for indipendent samples. In particular I want to test if we can state, with a significance level of 0.01, that there is a difference in the average of the bills payed by males and the bills payed by females also in the population and not just in our sample\n",
    "\n",
    "2)In the second test I will do a Chi-squared test of association to see if having lunch or dinner affects the bills payed by the customers. In order to do it I will create a categorical variable that states if the bill payed is above or below the average for each observation.\n",
    "\n",
    "3)In the third test I will test the normality of the bills payed.\n",
    "\n",
    "4)Bootstrap method to test if the mean of the tips is different from the mean of my sample"
   ]
  },
  {
   "cell_type": "code",
   "execution_count": 29,
   "metadata": {},
   "outputs": [
    {
     "name": "stdout",
     "output_type": "stream",
     "text": [
      "Ttest_indResult(statistic=2.3733978410287073, pvalue=0.0185733948549217)\n",
      "Applying a significance level of 0.01 I don't have enough evidence to reject H0 because: p-value>alpha.\n",
      "We can't state, with a significance level of 0.01, that there is a difference in the average of the bills payed by males and the bills payed by females also in the population and not just in our sample.\n"
     ]
    }
   ],
   "source": [
    "#1)T-Test for indipendent samples: Test of the means of the bills payed by males and females\n",
    "#H0: μ(male)=μ(female)   ;   H1:  μ(male)≠μ(female)\n",
    "\n",
    "df_male= df[df[\"sex\"]==\"Male\"]\n",
    "df_female= df[df[\"sex\"]==\"Female\"]\n",
    "\n",
    "from scipy.stats import ttest_ind\n",
    "print(ttest_ind(df_male.total_bill, df_female.total_bill ,equal_var = False))\n",
    "print(\"Applying a significance level of 0.01 I don't have enough evidence to reject H0 because: p-value>alpha.\")\n",
    "print(\"We can't state, with a significance level of 0.01, that there is a difference in the average of the bills payed by males and the bills payed by females also in the population and not just in our sample.\")"
   ]
  },
  {
   "cell_type": "code",
   "execution_count": 39,
   "metadata": {},
   "outputs": [
    {
     "name": "stdout",
     "output_type": "stream",
     "text": [
      "19.785942622950824\n",
      "     total_bill   tip     sex smoker   day    time  size  bill_above_average\n",
      "0         16.99  1.01  Female     No   Sun  Dinner     2               False\n",
      "1         10.34  1.66    Male     No   Sun  Dinner     3               False\n",
      "2         21.01  3.50    Male     No   Sun  Dinner     3                True\n",
      "3         23.68  3.31    Male     No   Sun  Dinner     2                True\n",
      "4         24.59  3.61  Female     No   Sun  Dinner     4                True\n",
      "..          ...   ...     ...    ...   ...     ...   ...                 ...\n",
      "239       29.03  5.92    Male     No   Sat  Dinner     3                True\n",
      "240       27.18  2.00  Female    Yes   Sat  Dinner     2                True\n",
      "241       22.67  2.00    Male    Yes   Sat  Dinner     2                True\n",
      "242       17.82  1.75    Male     No   Sat  Dinner     2               False\n",
      "243       18.78  3.00  Female     No  Thur  Dinner     2               False\n",
      "\n",
      "[244 rows x 8 columns]\n",
      "time                Lunch  Dinner\n",
      "bill_above_average               \n",
      "False                  51      94\n",
      "True                   17      82\n",
      "8.608770817151786   Chi_squared statistic\n",
      "0.0033454800477647874   P-value\n",
      "Applying a significance level of 0.01 I have enough evidence to reject H0 because: p-value<alpha.\n",
      "We can state, with a significance level of 0.01, that there is an association between paying a bill higher than the average and having dinner\n"
     ]
    }
   ],
   "source": [
    "#2)Chi-squared test of association\n",
    "#H0: There are no relationships between the two categorical variables, X1=time and X2=bill_above_average\n",
    "#H1: There are relationships between the two categorical variables, X1=time and X2=bill_above_average\n",
    "\n",
    "print(df[\"total_bill\"].mean())\n",
    "df[\"bill_above_average\"]=df.total_bill>19.785942622950824\n",
    "print(df)\n",
    "\n",
    "from scipy.stats import chi2_contingency\n",
    "table = pd.crosstab(df.bill_above_average, df.time,  margins = False) \n",
    "print(table)\n",
    "\n",
    "\n",
    "chi_statistic= chi2_contingency(table)[0]\n",
    "print(str(chi_statistic) + \"   Chi_squared statistic\")\n",
    "chi_pvalue= chi2_contingency(table)[1]\n",
    "print(str(chi_pvalue) + \"   P-value\")\n",
    "\n",
    "print(\"Applying a significance level of 0.01 I have enough evidence to reject H0 because: p-value<alpha.\")\n",
    "print(\"We can state, with a significance level of 0.01, that there is an association between paying a bill higher than the average and having dinner\")"
   ]
  },
  {
   "cell_type": "code",
   "execution_count": 47,
   "metadata": {},
   "outputs": [
    {
     "name": "stdout",
     "output_type": "stream",
     "text": [
      "KstestResult(statistic=0.9989297061453211, pvalue=0.0)\n",
      "Applying a significance level of 0.01 I have enough evidence to reject H0 because: p-value<alpha.\n",
      "We can state, with a significance level of 0.01, that the variable total_bill is not normally distributed.\n"
     ]
    },
    {
     "data": {
      "image/png": "[encoded data removed]",
      "text/plain": [
       "<Figure size 432x288 with 1 Axes>"
      ]
     },
     "metadata": {
      "needs_background": "light"
     },
     "output_type": "display_data"
    }
   ],
   "source": [
    "#3)Test Normality for the total_bill distribution\n",
    "#H0: total_bill follows a normal distribution  ; H1: total_bill doesn't follow a normal distribution\n",
    "\n",
    "\n",
    "import seaborn as sns\n",
    "ax = sns.distplot(df.total_bill,\n",
    "                  bins=20,\n",
    "                  kde=True,\n",
    "                  color='navy',\n",
    "                  hist_kws={\"linewidth\": 15,'alpha':0.5})\n",
    "ax.set(xlabel='Bill s Distribution ', ylabel='Frequency')\n",
    "\n",
    "\n",
    "from scipy.stats import kstest\n",
    "print(kstest(df.total_bill,\"norm\"))\n",
    "\n",
    "print(\"Applying a significance level of 0.01 I have enough evidence to reject H0 because: p-value<alpha.\")\n",
    "print(\"We can state, with a significance level of 0.01, that the variable total_bill is not normally distributed.\")"
   ]
  },
  {
   "cell_type": "code",
   "execution_count": 54,
   "metadata": {},
   "outputs": [
    {
     "name": "stdout",
     "output_type": "stream",
     "text": [
      "2.9982786885245902\n",
      "99% interval confidence[2.76592643 3.22831988]\n",
      "I can state with a significance of 0.01 that there is no evidence that the sample's mean is different from the population's mean\n"
     ]
    },
    {
     "data": {
      "image/png": "[encoded data removed]",
      "text/plain": [
       "<Figure size 432x288 with 1 Axes>"
      ]
     },
     "metadata": {
      "needs_background": "light"
     },
     "output_type": "display_data"
    }
   ],
   "source": [
    "#4)Bootstrap method to test if the mean of the tips is different from the mean of my sample(2.9982786885245902)\n",
    "#H0:  μ(tips)=2.9982786885245902   ;   H1:  μ(tips)≠2.9982786885245902\n",
    "\n",
    "\n",
    "print(df.tip.mean())\n",
    "\n",
    "#I build a for loop that append to a list the results of 5000 iterations of sampling with replacement 100% of my sample's obs\n",
    "listofmeans = []\n",
    "\n",
    "for i in range(5000):\n",
    "    listofmeans.append(df.tip.sample(frac = 1, replace = True).mean())\n",
    "\n",
    "#I visualize the results\n",
    "import matplotlib.pyplot as plt\n",
    "plt.hist(listofmeans,40)\n",
    "\n",
    "#I calculate the 99% confidence intervall\n",
    "\n",
    "import numpy as np\n",
    "interval_conf_99= np.percentile(listofmeans,[0.5,99.5])\n",
    "print(\"99% interval confidence\" + str(interval_conf_99))\n",
    "\n",
    "print(\"I can state with a significance of 0.01 that there is no evidence that the sample's mean is different from the population's mean\")"
   ]
  },
  {
   "cell_type": "markdown",
   "metadata": {},
   "source": [
    "**3)Pick two numerical variables and adjust a linear model between them. Show the plot and describe what can be said about the model ( 𝑅2 , coefficients, significance...). I don't want the variables to be perfectly correlated, I want the explanation to be right and clear. It is fine if the model is a disaster.**\n",
    "\n",
    "I built an OLS model with:\n",
    "\n",
    "y=tips ; x=total_bill\n",
    "\n",
    "y = b0 + b1x + e"
   ]
  },
  {
   "cell_type": "code",
   "execution_count": 67,
   "metadata": {},
   "outputs": [
    {
     "name": "stdout",
     "output_type": "stream",
     "text": [
      "                            OLS Regression Results                            \n",
      "==============================================================================\n",
      "Dep. Variable:                      y   R-squared:                       0.457\n",
      "Model:                            OLS   Adj. R-squared:                  0.454\n",
      "Method:                 Least Squares   F-statistic:                     203.4\n",
      "Date:                Wed, 25 Nov 2020   Prob (F-statistic):           6.69e-34\n",
      "Time:                        23:02:02   Log-Likelihood:                -350.54\n",
      "No. Observations:                 244   AIC:                             705.1\n",
      "Df Residuals:                     242   BIC:                             712.1\n",
      "Df Model:                           1                                         \n",
      "Covariance Type:            nonrobust                                         \n",
      "==============================================================================\n",
      "                 coef    std err          t      P>|t|      [0.025      0.975]\n",
      "------------------------------------------------------------------------------\n",
      "Intercept      0.9203      0.160      5.761      0.000       0.606       1.235\n",
      "x              0.1050      0.007     14.260      0.000       0.091       0.120\n",
      "==============================================================================\n",
      "Omnibus:                       20.185   Durbin-Watson:                   2.151\n",
      "Prob(Omnibus):                  0.000   Jarque-Bera (JB):               37.750\n",
      "Skew:                           0.443   Prob(JB):                     6.35e-09\n",
      "Kurtosis:                       4.711   Cond. No.                         53.0\n",
      "==============================================================================\n",
      "\n",
      "Warnings:\n",
      "[1] Standard Errors assume that the covariance matrix of the errors is correctly specified.\n"
     ]
    },
    {
     "data": {
      "image/png": "[encoded data removed]",
      "text/plain": [
       "<Figure size 432x288 with 1 Axes>"
      ]
     },
     "metadata": {
      "needs_background": "light"
     },
     "output_type": "display_data"
    },
    {
     "name": "stdout",
     "output_type": "stream",
     "text": [
      "The coefficient b1 is positive, equal to 0.9203, and significant with a p-value almost equal to zero, so we can refuse H0:b1=0 with any level of significance. A coefficient b1 equal to 0.1050 is interpreted as the increase of y caused by an increase of 1 of the value x, so the model says a 1 euro increase in the bill cause a 10 cents increase of the tip.\n",
      "An R2 equal to 0.457 means technically that 45.7% of the variance in the outcome variable is explained by the model, this value is quite small so data does not fit very well the model.\n"
     ]
    }
   ],
   "source": [
    "#OLS model: y=tips ; x=total_bill\n",
    "\n",
    "import pandas as pd\n",
    "import numpy as np\n",
    "import matplotlib.pyplot as plt\n",
    "import statsmodels.formula.api as smf\n",
    "\n",
    "\n",
    "Y = df[\"tip\"]\n",
    "X = df[[\"total_bill\"]]\n",
    "data = {\"x\" : X, \"y\" : Y}\n",
    "\n",
    "model = smf.ols('y ~ x', data=data).fit()\n",
    "\n",
    "print(model.summary())\n",
    "\n",
    "\n",
    "plt.scatter(X,Y,color = \"black\")\n",
    "plt.xlabel(\"Bill\")\n",
    "plt.ylabel(\"Tip\")\n",
    "plt.plot(X,Y_pred,color=\"Red\")\n",
    "plt.show()\n",
    "\n",
    "\n",
    "print(\"The coefficient b1 is positive, equal to 0.9203, and significant with a p-value almost equal to zero, so we can refuse H0:b1=0 with any level of significance. A coefficient b1 equal to 0.1050 is interpreted as the increase of y caused by an increase of 1 of the value x, so the model says a 1 euro increase in the bill cause a 10 cents increase of the tip.\")\n",
    "print(\"An R2 equal to 0.457 means technically that 45.7% of the variance in the outcome variable is explained by the model, this value is quite small so data does not fit very well the model.\")"
   ]
  },
  {
   "cell_type": "markdown",
   "metadata": {},
   "source": [
    "**4) Adjust a new model with at least 2 independent variables. One of them should be categorical and the other one numerical. Give a meaningful interpretation of the model. Does it increase its performance against the simple regression one? How?**\n",
    "\n",
    "I built this multivariate linear regression model with:\n",
    "\n",
    "y=tips ; x0=Friday ; x1=Saturday ; x2=Sunday ; x3=Thurdays ; x4= size ; x5=total_bill\n",
    "\n",
    "y = b0 + b1x0 + b2x1 + b3x2 + b4x3 + b5x4 + b6x5 + e"
   ]
  },
  {
   "cell_type": "code",
   "execution_count": 78,
   "metadata": {},
   "outputs": [
    {
     "name": "stdout",
     "output_type": "stream",
     "text": [
      "                            OLS Regression Results                            \n",
      "==============================================================================\n",
      "Dep. Variable:                      y   R-squared:                       0.469\n",
      "Model:                            OLS   Adj. R-squared:                  0.458\n",
      "Method:                 Least Squares   F-statistic:                     42.07\n",
      "Date:                Thu, 26 Nov 2020   Prob (F-statistic):           6.05e-31\n",
      "Time:                        00:46:53   Log-Likelihood:                -347.69\n",
      "No. Observations:                 244   AIC:                             707.4\n",
      "Df Residuals:                     238   BIC:                             728.4\n",
      "Df Model:                           5                                         \n",
      "Covariance Type:            nonrobust                                         \n",
      "==============================================================================\n",
      "                 coef    std err          t      P>|t|      [0.025      0.975]\n",
      "------------------------------------------------------------------------------\n",
      "Intercept      0.5535      0.158      3.501      0.001       0.242       0.865\n",
      "x[0]           0.1923      0.192      1.002      0.317      -0.186       0.570\n",
      "x[1]           0.0676      0.113      0.597      0.551      -0.156       0.291\n",
      "x[2]           0.1788      0.126      1.419      0.157      -0.069       0.427\n",
      "x[3]           0.1148      0.123      0.937      0.350      -0.127       0.356\n",
      "x[4]           0.1871      0.087      2.146      0.033       0.015       0.359\n",
      "x[5]           0.0930      0.009     10.065      0.000       0.075       0.111\n",
      "==============================================================================\n",
      "Omnibus:                       25.815   Durbin-Watson:                   2.097\n",
      "Prob(Omnibus):                  0.000   Jarque-Bera (JB):               48.366\n",
      "Skew:                           0.566   Prob(JB):                     3.14e-11\n",
      "Kurtosis:                       4.864   Cond. No.                     1.00e+17\n",
      "==============================================================================\n",
      "\n",
      "Warnings:\n",
      "[1] Standard Errors assume that the covariance matrix of the errors is correctly specified.\n",
      "[2] The smallest eigenvalue is 1.16e-29. This might indicate that there are\n",
      "strong multicollinearity problems or that the design matrix is singular.\n",
      "     day_Fri  day_Sat  day_Sun  day_Thur  size  total_bill\n",
      "0        0.0      0.0      1.0       0.0   2.0       16.99\n",
      "1        0.0      0.0      1.0       0.0   3.0       10.34\n",
      "2        0.0      0.0      1.0       0.0   3.0       21.01\n",
      "3        0.0      0.0      1.0       0.0   2.0       23.68\n",
      "4        0.0      0.0      1.0       0.0   4.0       24.59\n",
      "..       ...      ...      ...       ...   ...         ...\n",
      "239      0.0      1.0      0.0       0.0   3.0       29.03\n",
      "240      0.0      1.0      0.0       0.0   2.0       27.18\n",
      "241      0.0      1.0      0.0       0.0   2.0       22.67\n",
      "242      0.0      1.0      0.0       0.0   2.0       17.82\n",
      "243      0.0      0.0      0.0       1.0   2.0       18.78\n",
      "\n",
      "[244 rows x 6 columns]\n",
      "\n",
      "\n",
      "y=tips ; x0=Friday ; x1=Saturday ; x2=Sunday ; x3=Thurdays ; x4= size ; x5=total_bill\n",
      "\n",
      "y = b0 + b1x0 + b2x1 + b3x2 + b4x3 + b5x4 + b6x5 + e\n",
      "\n",
      "The coefficient of the variable that measures the bill is still significant but it reduced its value  and now is equal\n",
      "to 0.009, a coefficient b6 equal to 0.009 is interpreted as the increase of y caused by an increase of 1 euro of the\n",
      "value x5=total_bill controlling for all the other predictors.\n",
      "So the model says a 1 euro increase in the bill, controlling for the size and the pther variables cause a 0.9 cents increase\n",
      "of the tip.\n",
      "\n",
      "The coefficients of the days can be interpreted as follows:\n",
      "in case it is friday then x0=1 while x1=0, x2=0, x3=0 and b0(the coefficient of friday) can be interpreted as the increase of\n",
      "y due to the fact that it is Friday.\n",
      "The coefficients of the days are all not significant with any level of significance.\n",
      "\n",
      "The coefficient of the size of the table can be interpreted as the coefficient of the total_bill, this coefficient is \n",
      "significant with a 0.05 significance level because: p-value<alpha.\n",
      "\n",
      "The adjusted R2 is equal to 0.458  so it is equal almost to the one of the univariate regression, this value is\n",
      "still quite small so the additional predictors did not make data fit better the model, in fact almost all the\n",
      "coefficients of the new predictors are not significant\n"
     ]
    }
   ],
   "source": [
    "#Multivariate OLS model: y=tips ; x0=Friday ; x1=Saturday ; x2=Sunday ; x3=Thurdays ; x4= size ; x5=total_bill\n",
    "\n",
    "import pandas as pd\n",
    "import numpy as np\n",
    "import matplotlib.pyplot as plt\n",
    "import statsmodels.formula.api as smf\n",
    "\n",
    "\n",
    "Y = df[\"tip\"]\n",
    "X = df[[\"total_bill\",\"size\"]]\n",
    "\n",
    "\n",
    "df.day = df.day.astype(\"str\")\n",
    "dummies = pd.get_dummies(data=df[['day']])\n",
    "X = dummies.add(X,fill_value=0)\n",
    "\n",
    "\n",
    "data = {\"x\" : X, \"y\" : Y}\n",
    "\n",
    "model2 = smf.ols('y ~ x', data=data).fit()\n",
    "print(model2.summary())\n",
    "\n",
    "print(X)\n",
    "\n",
    "print(\"\"\"\n",
    "\n",
    "y=tips ; x0=Friday ; x1=Saturday ; x2=Sunday ; x3=Thurdays ; x4= size ; x5=total_bill\n",
    "\n",
    "y = b0 + b1x0 + b2x1 + b3x2 + b4x3 + b5x4 + b6x5 + e\n",
    "\n",
    "The coefficient of the variable that measures the bill is still significant but it reduced its value  and now is equal\n",
    "to 0.009, a coefficient b6 equal to 0.009 is interpreted as the increase of y caused by an increase of 1 euro of the\n",
    "value x5=total_bill controlling for all the other predictors.\n",
    "So the model says a 1 euro increase in the bill, controlling for the size and the pther variables cause a 0.9 cents increase\n",
    "of the tip.\n",
    "\n",
    "The coefficients of the days can be interpreted as follows:\n",
    "in case it is friday then x0=1 while x1=0, x2=0, x3=0 and b0(the coefficient of friday) can be interpreted as the increase of\n",
    "y due to the fact that it is Friday.\n",
    "The coefficients of the days are all not significant with any level of significance.\n",
    "\n",
    "The coefficient of the size of the table can be interpreted as the coefficient of the total_bill, this coefficient is \n",
    "significant with a 0.05 significance level because: p-value<alpha.\n",
    "\"\"\")\n",
    "\n",
    "print(\"\"\"The adjusted R2 is equal to 0.458  so it is equal almost to the one of the univariate regression, this value is\n",
    "still quite small so the additional predictors did not make data fit better the model, in fact almost all the\n",
    "coefficients of the new predictors are not significant\"\"\")"
   ]
  }
 ],
 "metadata": {
  "kernelspec": {
   "display_name": "Python 3",
   "language": "python",
   "name": "python3"
  },
  "language_info": {
   "codemirror_mode": {
    "name": "ipython",
    "version": 3
   },
   "file_extension": ".py",
   "mimetype": "text/x-python",
   "name": "python",
   "nbconvert_exporter": "python",
   "pygments_lexer": "ipython3",
   "version": "3.8.3"
  }
 },
 "nbformat": 4,
 "nbformat_minor": 2
}
